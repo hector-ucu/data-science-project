{
 "cells": [
  {
   "cell_type": "markdown",
   "source": [
    "# Introducción a Numpy\n",
    "\n",
    "> NumPy es una biblioteca de Python que da soporte para crear vectores y matrices grandes multidimensionales, junto con una gran colección de funciones matemáticas de alto nivel para operar con ellas.\n",
    "\n",
    "Sitio oficial: [numpy.org](https://numpy.org)\n",
    "\n",
    "Documentación oficial: [numpy.org/doc/stable/](https://numpy.org/doc/stable/)"
   ],
   "metadata": {
    "collapsed": false
   }
  },
  {
   "cell_type": "code",
   "execution_count": 1,
   "metadata": {
    "collapsed": true,
    "ExecuteTime": {
     "end_time": "2023-05-31T23:01:11.979566950Z",
     "start_time": "2023-05-31T23:01:11.932435751Z"
    }
   },
   "outputs": [],
   "source": [
    "import numpy as np"
   ]
  },
  {
   "cell_type": "markdown",
   "source": [
    "## Creación de array\n",
    "\n",
    "- array()\n",
    "- zeros()\n",
    "- ones()\n",
    "- linspaces()\n",
    "- random.rand()"
   ],
   "metadata": {
    "collapsed": false
   }
  },
  {
   "cell_type": "code",
   "execution_count": 3,
   "outputs": [
    {
     "data": {
      "text/plain": "array([1, 2, 3])"
     },
     "execution_count": 3,
     "metadata": {},
     "output_type": "execute_result"
    }
   ],
   "source": [
    "np.array([1, 2, 3])  # Array de una dimensión"
   ],
   "metadata": {
    "collapsed": false,
    "ExecuteTime": {
     "end_time": "2023-05-31T23:03:26.992058557Z",
     "start_time": "2023-05-31T23:03:26.984234136Z"
    }
   }
  },
  {
   "cell_type": "code",
   "execution_count": 2,
   "outputs": [
    {
     "data": {
      "text/plain": "array([[1, 2, 3],\n       [7, 8, 9]])"
     },
     "execution_count": 2,
     "metadata": {},
     "output_type": "execute_result"
    }
   ],
   "source": [
    "np.array([(1, 2, 3), (7, 8, 9)])  # Array de dos dimensiones"
   ],
   "metadata": {
    "collapsed": false,
    "ExecuteTime": {
     "end_time": "2023-05-31T23:01:12.001116467Z",
     "start_time": "2023-05-31T23:01:11.991189671Z"
    }
   }
  },
  {
   "cell_type": "code",
   "execution_count": 3,
   "outputs": [
    {
     "data": {
      "text/plain": "array([0., 0., 0., 0., 0., 0., 0., 0., 0., 0.])"
     },
     "execution_count": 3,
     "metadata": {},
     "output_type": "execute_result"
    }
   ],
   "source": [
    "np.zeros(10)"
   ],
   "metadata": {
    "collapsed": false,
    "ExecuteTime": {
     "end_time": "2023-05-31T00:31:52.950925627Z",
     "start_time": "2023-05-31T00:31:52.915933952Z"
    }
   }
  },
  {
   "cell_type": "code",
   "execution_count": 4,
   "outputs": [
    {
     "data": {
      "text/plain": "array([1., 1., 1., 1., 1., 1., 1., 1., 1., 1.])"
     },
     "execution_count": 4,
     "metadata": {},
     "output_type": "execute_result"
    }
   ],
   "source": [
    "np.ones(10)"
   ],
   "metadata": {
    "collapsed": false,
    "ExecuteTime": {
     "end_time": "2023-05-31T00:32:55.383095546Z",
     "start_time": "2023-05-31T00:32:55.360340323Z"
    }
   }
  },
  {
   "cell_type": "code",
   "execution_count": 9,
   "outputs": [
    {
     "data": {
      "text/plain": "array([ 0. ,  2.5,  5. ,  7.5, 10. ])"
     },
     "execution_count": 9,
     "metadata": {},
     "output_type": "execute_result"
    }
   ],
   "source": [
    "np.linspace(0, 10, 5)"
   ],
   "metadata": {
    "collapsed": false,
    "ExecuteTime": {
     "end_time": "2023-05-31T00:37:15.341394920Z",
     "start_time": "2023-05-31T00:37:15.331694246Z"
    }
   }
  },
  {
   "cell_type": "code",
   "execution_count": 11,
   "outputs": [
    {
     "data": {
      "text/plain": "array([0.80622545, 0.02996572, 0.51643056, 0.1075533 , 0.76908978,\n       0.42179431, 0.25700384, 0.4502794 , 0.31652859, 0.39630882,\n       0.4266884 , 0.54690869, 0.07504135, 0.09567996, 0.81163828,\n       0.46959775, 0.64811764, 0.29687717, 0.72932392, 0.76762342,\n       0.89065062, 0.78467267, 0.53693297, 0.03045665, 0.65642421,\n       0.30733132, 0.37883967, 0.91096903, 0.17568474, 0.85860677,\n       0.74774892, 0.21845653, 0.71769842, 0.23663513, 0.88662321,\n       0.84959148, 0.09146553, 0.09905696, 0.0727032 , 0.06096832,\n       0.74950331, 0.38957089, 0.70141756, 0.88346993, 0.40070635,\n       0.40489457, 0.86860555, 0.5688051 , 0.71096624, 0.48266758])"
     },
     "execution_count": 11,
     "metadata": {},
     "output_type": "execute_result"
    }
   ],
   "source": [
    "np.random.rand(50)"
   ],
   "metadata": {
    "collapsed": false,
    "ExecuteTime": {
     "end_time": "2023-05-31T00:40:23.458102554Z",
     "start_time": "2023-05-31T00:40:23.452367473Z"
    }
   }
  },
  {
   "cell_type": "code",
   "execution_count": 12,
   "outputs": [
    {
     "data": {
      "text/plain": "array([[0.92190802, 0.74598688, 0.75884849, 0.29692832],\n       [0.03068701, 0.46815299, 0.42088944, 0.70359792],\n       [0.43365566, 0.18094837, 0.12889737, 0.57306838]])"
     },
     "execution_count": 12,
     "metadata": {},
     "output_type": "execute_result"
    }
   ],
   "source": [
    "np.random.rand(3, 4)"
   ],
   "metadata": {
    "collapsed": false,
    "ExecuteTime": {
     "end_time": "2023-05-31T00:41:30.657131415Z",
     "start_time": "2023-05-31T00:41:30.634548698Z"
    }
   }
  },
  {
   "cell_type": "code",
   "execution_count": 5,
   "outputs": [
    {
     "data": {
      "text/plain": "array([[91.81674294, 37.87953081, 74.37547376, 54.29901529, 28.39509754],\n       [86.53421609, 95.89739471, 93.42963114, 97.32029912, 97.69381345],\n       [18.91135138, 16.69843281, 11.25301132, 13.81691617, 52.54658884],\n       [37.21285163, 33.94239525, 30.28308091, 24.02954286, 37.38053286]])"
     },
     "execution_count": 5,
     "metadata": {},
     "output_type": "execute_result"
    }
   ],
   "source": [
    "np.random.rand(4, 5)*100  # Array de 4x5 con valores entre 0 y 100"
   ],
   "metadata": {
    "collapsed": false,
    "ExecuteTime": {
     "end_time": "2023-05-31T23:05:28.951790775Z",
     "start_time": "2023-05-31T23:05:28.947026451Z"
    }
   }
  },
  {
   "cell_type": "code",
   "execution_count": 14,
   "outputs": [
    {
     "data": {
      "text/plain": "0.03908292163209459"
     },
     "execution_count": 14,
     "metadata": {},
     "output_type": "execute_result"
    }
   ],
   "source": [
    "my_array = np.random.rand(10)\n",
    "my_array.min()"
   ],
   "metadata": {
    "collapsed": false,
    "ExecuteTime": {
     "end_time": "2023-05-31T00:43:18.596695243Z",
     "start_time": "2023-05-31T00:43:18.587397992Z"
    }
   }
  }
 ],
 "metadata": {
  "kernelspec": {
   "display_name": "Python 3",
   "language": "python",
   "name": "python3"
  },
  "language_info": {
   "codemirror_mode": {
    "name": "ipython",
    "version": 2
   },
   "file_extension": ".py",
   "mimetype": "text/x-python",
   "name": "python",
   "nbconvert_exporter": "python",
   "pygments_lexer": "ipython2",
   "version": "2.7.6"
  }
 },
 "nbformat": 4,
 "nbformat_minor": 0
}
