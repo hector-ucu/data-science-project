{
 "cells": [
  {
   "cell_type": "markdown",
   "source": [
    "## Creación de array"
   ],
   "metadata": {
    "collapsed": false
   }
  },
  {
   "cell_type": "code",
   "execution_count": 34,
   "outputs": [],
   "source": [
    "import numpy as np"
   ],
   "metadata": {
    "collapsed": false,
    "ExecuteTime": {
     "end_time": "2023-05-31T23:46:47.365131773Z",
     "start_time": "2023-05-31T23:46:47.319906687Z"
    }
   }
  },
  {
   "cell_type": "markdown",
   "source": [
    "\n",
    "- array()\n",
    "- zeros()\n",
    "- ones()\n",
    "- eye()\n",
    "- linspaces()\n",
    "- random.rand()\n",
    "- random.randint()"
   ],
   "metadata": {
    "collapsed": false
   }
  },
  {
   "cell_type": "code",
   "execution_count": 45,
   "outputs": [
    {
     "data": {
      "text/plain": "array([1, 2, 3])"
     },
     "execution_count": 45,
     "metadata": {},
     "output_type": "execute_result"
    }
   ],
   "source": [
    "np.array([1, 2, 3])  # Array de una dimensión"
   ],
   "metadata": {
    "collapsed": false,
    "ExecuteTime": {
     "end_time": "2023-05-31T23:47:22.963420753Z",
     "start_time": "2023-05-31T23:47:22.922203705Z"
    }
   }
  },
  {
   "cell_type": "code",
   "execution_count": 46,
   "outputs": [
    {
     "data": {
      "text/plain": "array([[1, 2, 3],\n       [7, 8, 9]])"
     },
     "execution_count": 46,
     "metadata": {},
     "output_type": "execute_result"
    }
   ],
   "source": [
    "np.array([(1, 2, 3), (7, 8, 9)])  # Array de dos dimensiones"
   ],
   "metadata": {
    "collapsed": false,
    "ExecuteTime": {
     "end_time": "2023-05-31T23:47:25.942703456Z",
     "start_time": "2023-05-31T23:47:25.936249947Z"
    }
   }
  },
  {
   "cell_type": "code",
   "execution_count": 47,
   "outputs": [
    {
     "data": {
      "text/plain": "array([0., 0., 0., 0., 0., 0., 0., 0., 0., 0.])"
     },
     "execution_count": 47,
     "metadata": {},
     "output_type": "execute_result"
    }
   ],
   "source": [
    "np.zeros(10)  # Array de una dimensión con 10 elementos iguales a 0"
   ],
   "metadata": {
    "collapsed": false,
    "ExecuteTime": {
     "end_time": "2023-05-31T23:47:27.645854952Z",
     "start_time": "2023-05-31T23:47:27.638724776Z"
    }
   }
  },
  {
   "cell_type": "code",
   "execution_count": 48,
   "outputs": [
    {
     "data": {
      "text/plain": "array([1., 1., 1., 1., 1., 1., 1., 1., 1., 1.])"
     },
     "execution_count": 48,
     "metadata": {},
     "output_type": "execute_result"
    }
   ],
   "source": [
    "np.ones(10)  # Array de una dimensión con 10 elementos iguales a 1"
   ],
   "metadata": {
    "collapsed": false,
    "ExecuteTime": {
     "end_time": "2023-05-31T23:47:28.506588203Z",
     "start_time": "2023-05-31T23:47:28.486575363Z"
    }
   }
  },
  {
   "cell_type": "code",
   "execution_count": 49,
   "outputs": [
    {
     "data": {
      "text/plain": "array([[1., 0., 0., 0., 0.],\n       [0., 1., 0., 0., 0.],\n       [0., 0., 1., 0., 0.],\n       [0., 0., 0., 1., 0.],\n       [0., 0., 0., 0., 1.]])"
     },
     "execution_count": 49,
     "metadata": {},
     "output_type": "execute_result"
    }
   ],
   "source": [
    "np.eye(5)  # Array de dos dimensiones de 5x5 elementos iguales a 0, pero 1 en su diagonal"
   ],
   "metadata": {
    "collapsed": false,
    "ExecuteTime": {
     "end_time": "2023-05-31T23:47:29.270598525Z",
     "start_time": "2023-05-31T23:47:29.261441930Z"
    }
   }
  },
  {
   "cell_type": "code",
   "execution_count": 50,
   "outputs": [
    {
     "data": {
      "text/plain": "array([ 0. ,  2.5,  5. ,  7.5, 10. ])"
     },
     "execution_count": 50,
     "metadata": {},
     "output_type": "execute_result"
    }
   ],
   "source": [
    "np.linspace(0, 10, 5)  # Array de una dimensión con 5 elementos uniformemente distribuidos entre 0 y 10"
   ],
   "metadata": {
    "collapsed": false,
    "ExecuteTime": {
     "end_time": "2023-05-31T23:47:29.964989594Z",
     "start_time": "2023-05-31T23:47:29.958500730Z"
    }
   }
  },
  {
   "cell_type": "code",
   "execution_count": 52,
   "outputs": [
    {
     "data": {
      "text/plain": "array([0.61209922, 0.72690251, 0.60157257, 0.97941852, 0.91832729,\n       0.53355238, 0.52179378, 0.31698635, 0.31950497, 0.93415692,\n       0.51322474, 0.24076861, 0.02947823, 0.96667814, 0.54481288,\n       0.19854269, 0.33790087, 0.82092774, 0.60175532, 0.93685612,\n       0.02514253, 0.81616535, 0.82905521, 0.10997082, 0.51773871,\n       0.42151164, 0.35380053, 0.67638577, 0.38920823, 0.37891138,\n       0.82250943, 0.46085863, 0.13444911, 0.61272114, 0.3537625 ,\n       0.39235011, 0.23750426, 0.74187744, 0.22852038, 0.53156689,\n       0.04100285, 0.34456299, 0.12538526, 0.54595544, 0.6827185 ,\n       0.89324682, 0.48534172, 0.48120886, 0.78448734, 0.80656175])"
     },
     "execution_count": 52,
     "metadata": {},
     "output_type": "execute_result"
    }
   ],
   "source": [
    "np.random.rand(50)  # Array de una dimensión con 50 elementos entre 0 (incluido) y 1 (no incluido)"
   ],
   "metadata": {
    "collapsed": false,
    "ExecuteTime": {
     "end_time": "2023-05-31T23:47:32.587683887Z",
     "start_time": "2023-05-31T23:47:32.573497792Z"
    }
   }
  },
  {
   "cell_type": "code",
   "execution_count": 53,
   "outputs": [
    {
     "data": {
      "text/plain": "array([[0.11631268, 0.56758139, 0.82333293, 0.73655164],\n       [0.87420398, 0.49957312, 0.43997557, 0.20380229],\n       [0.43351331, 0.33889909, 0.51051769, 0.1020349 ]])"
     },
     "execution_count": 53,
     "metadata": {},
     "output_type": "execute_result"
    }
   ],
   "source": [
    "np.random.rand(3, 4)  # Array de dos dimensiones 3x4 con elementos entre 0 (incluido) y 1 (no incluido)"
   ],
   "metadata": {
    "collapsed": false,
    "ExecuteTime": {
     "end_time": "2023-05-31T23:47:34.356826376Z",
     "start_time": "2023-05-31T23:47:34.349903839Z"
    }
   }
  },
  {
   "cell_type": "code",
   "execution_count": 54,
   "outputs": [
    {
     "data": {
      "text/plain": "array([[25.34395938, 26.71665693, 24.8506284 , 43.09724305, 42.73889928],\n       [89.99592715, 71.04354616, 64.31597438, 52.71890849, 22.28682252],\n       [ 0.59130822, 62.2683721 ,  3.42550108, 30.02583591, 14.03826104],\n       [ 2.12058742, 80.4171192 , 72.19997077, 67.23307601, 59.12724723]])"
     },
     "execution_count": 54,
     "metadata": {},
     "output_type": "execute_result"
    }
   ],
   "source": [
    "np.random.rand(4, 5)*100  # Array de 4x5 con valores entre 0 y 100"
   ],
   "metadata": {
    "collapsed": false,
    "ExecuteTime": {
     "end_time": "2023-05-31T23:47:35.815680404Z",
     "start_time": "2023-05-31T23:47:35.808572728Z"
    }
   }
  },
  {
   "cell_type": "code",
   "execution_count": 55,
   "outputs": [
    {
     "data": {
      "text/plain": "array([[9, 3, 0],\n       [5, 1, 8]])"
     },
     "execution_count": 55,
     "metadata": {},
     "output_type": "execute_result"
    }
   ],
   "source": [
    "np.random.randint(10, size=(2,3))  # Array de dos dimensiones 2x3 con elementos enteros entre 0 y 10"
   ],
   "metadata": {
    "collapsed": false,
    "ExecuteTime": {
     "end_time": "2023-05-31T23:47:37.048755378Z",
     "start_time": "2023-05-31T23:47:37.032514103Z"
    }
   }
  },
  {
   "cell_type": "code",
   "execution_count": null,
   "outputs": [],
   "source": [],
   "metadata": {
    "collapsed": false
   }
  }
 ],
 "metadata": {
  "kernelspec": {
   "display_name": "Python 3",
   "language": "python",
   "name": "python3"
  },
  "language_info": {
   "codemirror_mode": {
    "name": "ipython",
    "version": 2
   },
   "file_extension": ".py",
   "mimetype": "text/x-python",
   "name": "python",
   "nbconvert_exporter": "python",
   "pygments_lexer": "ipython2",
   "version": "2.7.6"
  }
 },
 "nbformat": 4,
 "nbformat_minor": 0
}
